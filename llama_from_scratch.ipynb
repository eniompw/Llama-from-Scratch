{
  "nbformat": 4,
  "nbformat_minor": 0,
  "metadata": {
    "colab": {
      "provenance": [],
      "include_colab_link": true
    },
    "kernelspec": {
      "name": "python3",
      "display_name": "Python 3"
    },
    "language_info": {
      "name": "python"
    }
  },
  "cells": [
    {
      "cell_type": "markdown",
      "metadata": {
        "id": "view-in-github",
        "colab_type": "text"
      },
      "source": [
        "<a href=\"https://colab.research.google.com/github/eniompw/Llama-from-Scratch/blob/main/llama_from_scratch.ipynb\" target=\"_parent\"><img src=\"https://colab.research.google.com/assets/colab-badge.svg\" alt=\"Open In Colab\"/></a>"
      ]
    },
    {
      "cell_type": "code",
      "source": [
        "from torch import nn\n",
        "import torch\n",
        "import numpy as np\n",
        "import time\n",
        "from torch.nn import functional as F\n",
        "import pandas as pd"
      ],
      "metadata": {
        "id": "93eXYoGyDTr4"
      },
      "execution_count": 1,
      "outputs": []
    },
    {
      "cell_type": "code",
      "source": [
        "class RMSNorm(nn.Module):\n",
        "    def __init__(self, layer_shape, eps=1e-8, bias=False):\n",
        "        super(RMSNorm, self).__init__()\n",
        "        self.register_parameter(\"scale\", nn.Parameter(torch.ones(layer_shape)))\n",
        "\n",
        "    def forward(self, x):\n",
        "        \"\"\"\n",
        "        assumes shape is (batch, seq_len, d_model)\n",
        "        \"\"\"\n",
        "        # frob norm is not the same as RMS. RMS = 1/sqrt(N) * frob norm\n",
        "        ff_rms = torch.linalg.norm(x, dim=(1,2)) * x[0].numel() ** -.5\n",
        "        raw = x / ff_rms.unsqueeze(-1).unsqueeze(-1)\n",
        "        return self.scale[:x.shape[1], :].unsqueeze(0) * raw"
      ],
      "metadata": {
        "id": "BVVnnfJ4EDHt"
      },
      "execution_count": 2,
      "outputs": []
    },
    {
      "cell_type": "code",
      "source": [
        "class RoPEAttention_wMask(nn.Module):\n",
        "    def __init__(self, config):\n",
        "        super().__init__()\n",
        "        self.config = config\n",
        "        self.w_q = nn.Linear(config['d_model'], config['d_model'], bias=False)\n",
        "        self.w_k = nn.Linear(config['d_model'], config['d_model'], bias=False)\n",
        "        self.w_v = nn.Linear(config['d_model'], config['d_model'], bias=False)\n",
        "\n",
        "        self.multihead = nn.MultiheadAttention(config['d_model'], config['n_heads'], dropout=0.1, batch_first=True)\n",
        "        self.R = get_rotary_matrix(config['context_window'], config['d_model'])\n",
        "\n",
        "    def forward(self, x, return_attn_weights=False):\n",
        "        b,m,d = x.shape\n",
        "\n",
        "        q = self.w_q(x)\n",
        "        k = self.w_k(x)\n",
        "        v = self.w_v(x)\n",
        "\n",
        "        q_out = (torch.bmm(q.transpose(0,1), self.R[:m, ...])).transpose(0,1)\n",
        "        k_out = (torch.bmm(k.transpose(0,1), self.R[:m, ...])).transpose(0,1)\n",
        "        v_out = (torch.bmm(v.transpose(0,1), self.R[:m, ...])).transpose(0,1)\n",
        "\n",
        "        activations, attn_weights = self.multihead(\n",
        "            q_out,k_out,v_out,\n",
        "            attn_mask=nn.Transformer.generate_square_subsequent_mask(m),\n",
        "            is_causal=True\n",
        "        )\n",
        "\n",
        "        if return_attn_weights:\n",
        "            return activations, attn_weights\n",
        "        return activations\n",
        "\n",
        "def get_rotary_matrix(context_window, embedding_dim):\n",
        "    R = torch.zeros((context_window, embedding_dim, embedding_dim), requires_grad=False)\n",
        "    for position in range(context_window):\n",
        "        for i in range(embedding_dim//2):\n",
        "            theta = 10000. ** (-2.*(i - 1) / embedding_dim)\n",
        "            m_theta = position * theta\n",
        "            R[position, 2*i,2*i] = np.cos(m_theta)\n",
        "            R[position, 2*i,2*i+1] = - np.sin(m_theta)\n",
        "            R[position, 2*i+1,2*i] = np.sin(m_theta)\n",
        "            R[position, 2*i+1,2*i+1] = np.cos(m_theta)\n",
        "    return R"
      ],
      "metadata": {
        "id": "qZ-S3twlEqVB"
      },
      "execution_count": 3,
      "outputs": []
    },
    {
      "cell_type": "code",
      "source": [
        "class SwiGLU(nn.Module):\n",
        "    \"\"\"\n",
        "    Swish-Gated Linear Unit\n",
        "    https://arxiv.org/pdf/2002.05202v1.pdf\n",
        "    \"\"\"\n",
        "    def __init__(self, size):\n",
        "        super().__init__()\n",
        "        self.config = config\n",
        "        self.linear_gate = nn.Linear(size, size)\n",
        "        self.linear = nn.Linear(size, size)\n",
        "        self.beta = torch.randn(1, requires_grad=True)\n",
        "\n",
        "        self.beta = nn.Parameter(torch.ones(1))\n",
        "        self.register_parameter(\"beta\", self.beta)\n",
        "\n",
        "    def forward(self, x):\n",
        "        swish_gate = self.linear_gate(x) * torch.sigmoid(self.beta * self.linear_gate(x))\n",
        "        out = swish_gate * self.linear(x)\n",
        "        return out"
      ],
      "metadata": {
        "id": "HRdgH0vBJmzG"
      },
      "execution_count": 4,
      "outputs": []
    },
    {
      "cell_type": "code",
      "source": [
        "# add RMSNorm and residual conncection\n",
        "class LlamaBlock(nn.Module):\n",
        "    def __init__(self, config):\n",
        "        super().__init__()\n",
        "        self.config = config\n",
        "\n",
        "        self.rms = RMSNorm((config['context_window'], config['d_model']))\n",
        "\n",
        "        self.attention = RoPEAttention_wMask(config)\n",
        "        self.feedforward = nn.Sequential(\n",
        "            nn.Linear(config['d_model'], config['d_model']),\n",
        "            SwiGLU(config['d_model']),\n",
        "        )\n",
        "\n",
        "    def forward(self, x):\n",
        "        x = self.rms(x) # rms pre-normalization\n",
        "        x = x + self.attention(x)\n",
        "\n",
        "        x = self.rms(x) # rms pre-normalization\n",
        "        x = x + self.feedforward(x)\n",
        "        return x"
      ],
      "metadata": {
        "id": "RYRn7I6ND61m"
      },
      "execution_count": 5,
      "outputs": []
    },
    {
      "cell_type": "code",
      "source": [
        "from collections import OrderedDict\n",
        "\n",
        "class Llama(nn.Module):\n",
        "    def __init__(self, config):\n",
        "        super().__init__()\n",
        "        self.config = config\n",
        "        self.embeddings = nn.Embedding(config['vocab_size'], config['d_model'])\n",
        "        self.llama_blocks = nn.Sequential(\n",
        "            OrderedDict([(f\"llama_{i}\", LlamaBlock(config)) for i in range(config['n_layers'])])\n",
        "        )\n",
        "\n",
        "        self.ffn = nn.Sequential(\n",
        "            nn.Linear(config['d_model'], config['d_model']),\n",
        "            SwiGLU(config['d_model']),\n",
        "            nn.Linear(config['d_model'], config['vocab_size']),\n",
        "        )\n",
        "\n",
        "        print(\"model params:\", sum([m.numel() for m in self.parameters()]))\n",
        "\n",
        "    def forward(self, idx, targets=None):\n",
        "        x = self.embeddings(idx)\n",
        "        x = self.llama_blocks(x)\n",
        "        logits = self.ffn(x)\n",
        "\n",
        "        if targets is None:\n",
        "            return logits\n",
        "\n",
        "        else:\n",
        "            loss = F.cross_entropy(logits.view(-1, self.config['vocab_size']), targets.view(-1))\n",
        "            return logits, loss"
      ],
      "metadata": {
        "id": "vJCDwFbqDL7U"
      },
      "execution_count": 6,
      "outputs": []
    },
    {
      "cell_type": "code",
      "source": [
        "!wget https://raw.githubusercontent.com/bkitano/llama-from-scratch/main/input.txt\n",
        "lines = open('./input.txt', 'r').read()\n",
        "\n",
        "vocab = sorted(list(set(lines)))\n",
        "itos = {i:ch for i, ch in enumerate(vocab)}\n",
        "stoi = {ch:i for i, ch in enumerate(vocab)}\n",
        "\n",
        "print(lines[:30])"
      ],
      "metadata": {
        "colab": {
          "base_uri": "https://localhost:8080/"
        },
        "id": "FXbS_eGzRYaw",
        "outputId": "e9d99cfc-84c0-4456-88b4-2c8c958cac1e"
      },
      "execution_count": 7,
      "outputs": [
        {
          "output_type": "stream",
          "name": "stdout",
          "text": [
            "--2023-08-25 21:15:34--  https://raw.githubusercontent.com/bkitano/llama-from-scratch/main/input.txt\n",
            "Resolving raw.githubusercontent.com (raw.githubusercontent.com)... 185.199.108.133, 185.199.110.133, 185.199.111.133, ...\n",
            "Connecting to raw.githubusercontent.com (raw.githubusercontent.com)|185.199.108.133|:443... connected.\n",
            "HTTP request sent, awaiting response... 200 OK\n",
            "Length: 1115394 (1.1M) [text/plain]\n",
            "Saving to: ‘input.txt’\n",
            "\n",
            "input.txt           100%[===================>]   1.06M  --.-KB/s    in 0.04s   \n",
            "\n",
            "2023-08-25 21:15:35 (28.9 MB/s) - ‘input.txt’ saved [1115394/1115394]\n",
            "\n",
            "First Citizen:\n",
            "Before we proce\n"
          ]
        }
      ]
    },
    {
      "cell_type": "code",
      "source": [
        "# simple tokenization by characters\n",
        "def encode(s):\n",
        "    return [stoi[ch] for ch in s]\n",
        "\n",
        "def decode(l):\n",
        "    return ''.join([itos[i] for i in l])\n",
        "\n",
        "print('vocab size:', len(vocab))\n",
        "decode(encode(\"hello\"))\n",
        "\n",
        "dataset = torch.tensor(encode(lines), dtype=torch.int8)\n",
        "dataset.shape"
      ],
      "metadata": {
        "colab": {
          "base_uri": "https://localhost:8080/"
        },
        "id": "J0BE0F_k-QNQ",
        "outputId": "607e82d7-99e6-4938-9f47-18b880c0166b"
      },
      "execution_count": 8,
      "outputs": [
        {
          "output_type": "stream",
          "name": "stdout",
          "text": [
            "vocab size: 65\n"
          ]
        },
        {
          "output_type": "execute_result",
          "data": {
            "text/plain": [
              "torch.Size([1115394])"
            ]
          },
          "metadata": {},
          "execution_count": 8
        }
      ]
    },
    {
      "cell_type": "code",
      "source": [
        "MASTER_CONFIG = {\n",
        "    \"vocab_size\": len(vocab),\n",
        "    'd_model': 128,\n",
        "    'n_layers': 4,\n",
        "    'context_window': 16,\n",
        "    'n_heads': 8,\n",
        "    'epochs': 1000,\n",
        "    'batch_size': 1,\n",
        "    'log_interval': 10\n",
        "}\n",
        "\n",
        "config = MASTER_CONFIG"
      ],
      "metadata": {
        "id": "KgFGas_mJckW"
      },
      "execution_count": 9,
      "outputs": []
    },
    {
      "cell_type": "code",
      "source": [
        "def get_batches(data, split, batch_size, context_window, config=MASTER_CONFIG):\n",
        "    train = data[:int(.8 * len(data))]\n",
        "    val = data[int(.8 * len(data)): int(.9 * len(data))]\n",
        "    test = data[int(.9 * len(data)):]\n",
        "\n",
        "    batch_data = train\n",
        "    if split == 'val':\n",
        "        batch_data = val\n",
        "\n",
        "    if split == 'test':\n",
        "        batch_data = test\n",
        "\n",
        "    # pick random starting points\n",
        "    ix = torch.randint(0, batch_data.size(0) - context_window - 1, (batch_size,))\n",
        "    x = torch.stack([batch_data[i:i+context_window] for i in ix]).long()\n",
        "    y = torch.stack([batch_data[i+1:i+context_window+1] for i in ix]).long()\n",
        "    return x, y"
      ],
      "metadata": {
        "id": "6YfICdWY99XO"
      },
      "execution_count": 10,
      "outputs": []
    },
    {
      "cell_type": "code",
      "source": [
        "@torch.no_grad()  # don't compute gradients for this function\n",
        "def evaluate_loss(model, config=MASTER_CONFIG):\n",
        "    out = {}\n",
        "    model.eval()\n",
        "    for split in [\"train\", \"val\"]:\n",
        "        losses = []\n",
        "        for _ in range(10):\n",
        "            xb, yb = get_batches(dataset, split, config['batch_size'], config['context_window'])\n",
        "            _, loss = model(xb, yb)\n",
        "            losses.append(loss.item())\n",
        "        out[split] = np.mean(losses)\n",
        "    model.train()\n",
        "    return out"
      ],
      "metadata": {
        "id": "S3z3fm9YCQSW"
      },
      "execution_count": 11,
      "outputs": []
    },
    {
      "cell_type": "code",
      "source": [
        "def train(model, optimizer, scheduler=None, config=MASTER_CONFIG, print_logs=False):\n",
        "    losses = []\n",
        "    best_val_loss = 1e9\n",
        "    start_time = time.time()\n",
        "    for epoch in range(config['epochs']):\n",
        "        optimizer.zero_grad()\n",
        "\n",
        "        xs, ys = get_batches(dataset, 'train', config['batch_size'], config['context_window'])\n",
        "        logits, loss = model(xs, targets=ys)\n",
        "        loss.backward()\n",
        "        optimizer.step()\n",
        "\n",
        "        if scheduler:\n",
        "            scheduler.step()\n",
        "\n",
        "        if epoch % config['log_interval'] == 0:\n",
        "            batch_time = time.time() - start_time\n",
        "            x = evaluate_loss(model)\n",
        "            losses += [x]\n",
        "            if print_logs:\n",
        "                if best_val_loss > x['val']:\n",
        "                    best_val_loss = x['val']\n",
        "                    torch.save(model.state_dict(), 'ckpt.pt')\n",
        "                print(f\"Epoch {epoch} | val loss {x['val']:.3f} | Time {batch_time:.3f} | ETA in seconds {batch_time * (config['epochs'] - epoch)/config['log_interval'] :.3f}\")\n",
        "            start_time = time.time()\n",
        "\n",
        "            if scheduler:\n",
        "                print(\"lr: \", scheduler.get_lr())\n",
        "\n",
        "    print(\"validation loss: \", losses[-1]['val'])\n",
        "    return pd.DataFrame(losses).plot()"
      ],
      "metadata": {
        "id": "t-V00w4gCfZC"
      },
      "execution_count": 12,
      "outputs": []
    },
    {
      "cell_type": "code",
      "source": [
        "llama = Llama(MASTER_CONFIG)\n",
        "optimizer = torch.optim.Adam(llama.parameters())\n",
        "train(llama, optimizer, config=MASTER_CONFIG, print_logs=True)"
      ],
      "metadata": {
        "colab": {
          "base_uri": "https://localhost:8080/",
          "height": 1000
        },
        "id": "tzuc1AS4Bou_",
        "outputId": "1daf7199-384e-49bf-d180-8f93030dd19c"
      },
      "execution_count": 13,
      "outputs": [
        {
          "output_type": "stream",
          "name": "stdout",
          "text": [
            "model params: 733382\n",
            "Epoch 0 | val loss 4.169 | Time 0.320 | ETA in seconds 32.045\n",
            "Epoch 10 | val loss 4.017 | Time 0.495 | ETA in seconds 48.981\n",
            "Epoch 20 | val loss 3.843 | Time 0.470 | ETA in seconds 46.064\n",
            "Epoch 30 | val loss 3.412 | Time 0.578 | ETA in seconds 56.055\n",
            "Epoch 40 | val loss 3.275 | Time 0.521 | ETA in seconds 50.037\n",
            "Epoch 50 | val loss 3.138 | Time 0.516 | ETA in seconds 49.013\n",
            "Epoch 60 | val loss 3.186 | Time 0.383 | ETA in seconds 35.968\n",
            "Epoch 70 | val loss 3.049 | Time 0.543 | ETA in seconds 50.508\n",
            "Epoch 80 | val loss 3.026 | Time 0.718 | ETA in seconds 66.065\n",
            "Epoch 90 | val loss 3.132 | Time 0.887 | ETA in seconds 80.706\n",
            "Epoch 100 | val loss 3.140 | Time 0.368 | ETA in seconds 33.106\n",
            "Epoch 110 | val loss 3.054 | Time 0.220 | ETA in seconds 19.599\n",
            "Epoch 120 | val loss 2.896 | Time 0.219 | ETA in seconds 19.250\n",
            "Epoch 130 | val loss 2.917 | Time 0.230 | ETA in seconds 19.973\n",
            "Epoch 140 | val loss 2.795 | Time 0.223 | ETA in seconds 19.194\n",
            "Epoch 150 | val loss 2.990 | Time 0.221 | ETA in seconds 18.765\n",
            "Epoch 160 | val loss 3.248 | Time 0.235 | ETA in seconds 19.740\n",
            "Epoch 170 | val loss 2.949 | Time 0.232 | ETA in seconds 19.274\n",
            "Epoch 180 | val loss 2.787 | Time 0.222 | ETA in seconds 18.186\n",
            "Epoch 190 | val loss 3.033 | Time 0.230 | ETA in seconds 18.605\n",
            "Epoch 200 | val loss 3.027 | Time 0.222 | ETA in seconds 17.799\n",
            "Epoch 210 | val loss 2.930 | Time 0.233 | ETA in seconds 18.393\n",
            "Epoch 220 | val loss 3.060 | Time 0.239 | ETA in seconds 18.667\n",
            "Epoch 230 | val loss 2.697 | Time 0.264 | ETA in seconds 20.310\n",
            "Epoch 240 | val loss 2.906 | Time 0.272 | ETA in seconds 20.686\n",
            "Epoch 250 | val loss 3.000 | Time 0.333 | ETA in seconds 24.942\n",
            "Epoch 260 | val loss 2.937 | Time 0.344 | ETA in seconds 25.485\n",
            "Epoch 270 | val loss 2.689 | Time 0.309 | ETA in seconds 22.533\n",
            "Epoch 280 | val loss 2.752 | Time 0.220 | ETA in seconds 15.822\n",
            "Epoch 290 | val loss 2.780 | Time 0.231 | ETA in seconds 16.386\n",
            "Epoch 300 | val loss 2.791 | Time 0.256 | ETA in seconds 17.923\n",
            "Epoch 310 | val loss 3.168 | Time 0.260 | ETA in seconds 17.907\n",
            "Epoch 320 | val loss 2.627 | Time 0.253 | ETA in seconds 17.213\n",
            "Epoch 330 | val loss 2.540 | Time 0.270 | ETA in seconds 18.081\n",
            "Epoch 340 | val loss 2.858 | Time 0.256 | ETA in seconds 16.917\n",
            "Epoch 350 | val loss 2.929 | Time 0.254 | ETA in seconds 16.506\n",
            "Epoch 360 | val loss 3.122 | Time 0.223 | ETA in seconds 14.255\n",
            "Epoch 370 | val loss 2.805 | Time 0.226 | ETA in seconds 14.224\n",
            "Epoch 380 | val loss 2.826 | Time 0.224 | ETA in seconds 13.870\n",
            "Epoch 390 | val loss 2.790 | Time 0.365 | ETA in seconds 22.264\n",
            "Epoch 400 | val loss 3.163 | Time 0.355 | ETA in seconds 21.274\n",
            "Epoch 410 | val loss 2.904 | Time 0.352 | ETA in seconds 20.746\n",
            "Epoch 420 | val loss 2.716 | Time 0.609 | ETA in seconds 35.320\n",
            "Epoch 430 | val loss 2.789 | Time 0.378 | ETA in seconds 21.557\n",
            "Epoch 440 | val loss 2.748 | Time 0.224 | ETA in seconds 12.542\n",
            "Epoch 450 | val loss 2.738 | Time 0.240 | ETA in seconds 13.226\n",
            "Epoch 460 | val loss 2.682 | Time 0.220 | ETA in seconds 11.899\n",
            "Epoch 470 | val loss 2.640 | Time 0.263 | ETA in seconds 13.956\n",
            "Epoch 480 | val loss 3.126 | Time 0.261 | ETA in seconds 13.576\n",
            "Epoch 490 | val loss 2.607 | Time 0.258 | ETA in seconds 13.181\n",
            "Epoch 500 | val loss 2.952 | Time 0.220 | ETA in seconds 10.993\n",
            "Epoch 510 | val loss 2.679 | Time 0.218 | ETA in seconds 10.699\n",
            "Epoch 520 | val loss 2.660 | Time 0.231 | ETA in seconds 11.108\n",
            "Epoch 530 | val loss 3.225 | Time 0.227 | ETA in seconds 10.666\n",
            "Epoch 540 | val loss 2.822 | Time 0.221 | ETA in seconds 10.159\n",
            "Epoch 550 | val loss 2.676 | Time 0.216 | ETA in seconds 9.714\n",
            "Epoch 560 | val loss 2.700 | Time 0.234 | ETA in seconds 10.309\n",
            "Epoch 570 | val loss 2.732 | Time 0.226 | ETA in seconds 9.727\n",
            "Epoch 580 | val loss 2.695 | Time 0.214 | ETA in seconds 8.983\n",
            "Epoch 590 | val loss 2.761 | Time 0.231 | ETA in seconds 9.466\n",
            "Epoch 600 | val loss 2.483 | Time 0.231 | ETA in seconds 9.246\n",
            "Epoch 610 | val loss 2.650 | Time 0.226 | ETA in seconds 8.819\n",
            "Epoch 620 | val loss 2.748 | Time 0.229 | ETA in seconds 8.710\n",
            "Epoch 630 | val loss 2.860 | Time 0.231 | ETA in seconds 8.551\n",
            "Epoch 640 | val loss 2.681 | Time 0.221 | ETA in seconds 7.939\n",
            "Epoch 650 | val loss 2.760 | Time 0.221 | ETA in seconds 7.732\n",
            "Epoch 660 | val loss 2.620 | Time 0.231 | ETA in seconds 7.851\n",
            "Epoch 670 | val loss 2.681 | Time 0.213 | ETA in seconds 7.019\n",
            "Epoch 680 | val loss 2.803 | Time 0.216 | ETA in seconds 6.908\n",
            "Epoch 690 | val loss 2.700 | Time 0.229 | ETA in seconds 7.111\n",
            "Epoch 700 | val loss 2.589 | Time 0.214 | ETA in seconds 6.433\n",
            "Epoch 710 | val loss 2.692 | Time 0.220 | ETA in seconds 6.384\n",
            "Epoch 720 | val loss 2.720 | Time 0.252 | ETA in seconds 7.060\n",
            "Epoch 730 | val loss 2.782 | Time 0.321 | ETA in seconds 8.674\n",
            "Epoch 740 | val loss 2.820 | Time 0.335 | ETA in seconds 8.705\n",
            "Epoch 750 | val loss 2.714 | Time 0.320 | ETA in seconds 8.004\n",
            "Epoch 760 | val loss 2.584 | Time 0.305 | ETA in seconds 7.328\n",
            "Epoch 770 | val loss 2.699 | Time 0.322 | ETA in seconds 7.417\n",
            "Epoch 780 | val loss 2.742 | Time 0.219 | ETA in seconds 4.809\n",
            "Epoch 790 | val loss 3.022 | Time 0.238 | ETA in seconds 5.006\n",
            "Epoch 800 | val loss 2.791 | Time 0.212 | ETA in seconds 4.230\n",
            "Epoch 810 | val loss 2.800 | Time 0.225 | ETA in seconds 4.274\n",
            "Epoch 820 | val loss 2.622 | Time 0.265 | ETA in seconds 4.768\n",
            "Epoch 830 | val loss 2.661 | Time 0.252 | ETA in seconds 4.280\n",
            "Epoch 840 | val loss 2.804 | Time 0.260 | ETA in seconds 4.153\n",
            "Epoch 850 | val loss 2.655 | Time 0.266 | ETA in seconds 3.992\n",
            "Epoch 860 | val loss 2.735 | Time 0.261 | ETA in seconds 3.652\n",
            "Epoch 870 | val loss 2.618 | Time 0.237 | ETA in seconds 3.083\n",
            "Epoch 880 | val loss 2.809 | Time 0.227 | ETA in seconds 2.718\n",
            "Epoch 890 | val loss 2.666 | Time 0.229 | ETA in seconds 2.519\n",
            "Epoch 900 | val loss 2.603 | Time 0.223 | ETA in seconds 2.230\n",
            "Epoch 910 | val loss 2.771 | Time 0.232 | ETA in seconds 2.092\n",
            "Epoch 920 | val loss 2.682 | Time 0.225 | ETA in seconds 1.799\n",
            "Epoch 930 | val loss 2.786 | Time 0.224 | ETA in seconds 1.571\n",
            "Epoch 940 | val loss 2.814 | Time 0.226 | ETA in seconds 1.358\n",
            "Epoch 950 | val loss 2.777 | Time 0.226 | ETA in seconds 1.131\n",
            "Epoch 960 | val loss 2.747 | Time 0.230 | ETA in seconds 0.921\n",
            "Epoch 970 | val loss 2.589 | Time 0.263 | ETA in seconds 0.788\n",
            "Epoch 980 | val loss 2.760 | Time 0.263 | ETA in seconds 0.526\n",
            "Epoch 990 | val loss 2.775 | Time 0.276 | ETA in seconds 0.276\n",
            "validation loss:  2.774950385093689\n"
          ]
        },
        {
          "output_type": "execute_result",
          "data": {
            "text/plain": [
              "<Axes: >"
            ]
          },
          "metadata": {},
          "execution_count": 13
        },
        {
          "output_type": "display_data",
          "data": {
            "text/plain": [
              "<Figure size 640x480 with 1 Axes>"
            ],
            "image/png": "[encoded data removed]"
          },
          "metadata": {}
        }
      ]
    },
    {
      "cell_type": "code",
      "source": [
        "def generate(model, config=MASTER_CONFIG, max_new_tokens=30):\n",
        "    idx = torch.zeros(5, 1).long()\n",
        "    for _ in range(max_new_tokens):\n",
        "        # call the model\n",
        "        logits = model(idx[:, -config['context_window']:])\n",
        "        last_time_step_logits = logits[\n",
        "            :, -1, :\n",
        "        ]  # all the batches (1), last time step, all the logits\n",
        "        p = F.softmax(last_time_step_logits, dim=-1)  # softmax to get probabilities\n",
        "        idx_next = torch.multinomial(\n",
        "            p, num_samples=1\n",
        "        )  # sample from the distribution to get the next token\n",
        "        idx = torch.cat([idx, idx_next], dim=-1)  # append to the sequence\n",
        "    return [decode(x) for x in idx.tolist()]\n",
        "\n",
        "llama = Llama(MASTER_CONFIG)\n",
        "llama.load_state_dict(torch.load('ckpt.pt'))\n",
        "print(generate(llama, MASTER_CONFIG, 500)[0])"
      ],
      "metadata": {
        "id": "-Cxx3XEXf9pH",
        "outputId": "ae35bfa5-6eb4-43e7-ed2a-7f89ceb7165c",
        "colab": {
          "base_uri": "https://localhost:8080/"
        }
      },
      "execution_count": 14,
      "outputs": [
        {
          "output_type": "stream",
          "name": "stdout",
          "text": [
            "model params: 733382\n",
            "\n",
            "L\n",
            "Lnd d ineothnd tiauan:\n",
            "woroveerthesofvimalasthe uraincrs myouithetoditO t wis Y:\n",
            "uo w\n",
            "he niwimain oit, hathaluurithos h ka Gewae ths thotour hast.\n",
            "\n",
            "\n",
            "S stis ntlearlst lp sst.\n",
            "nonorteaafore harrs cthofossonfarsthelos  tise l de okiste'hl phayote menonoreIR:\n",
            "Dh the sfoighay th n. b hamas,\n",
            "Hfivet me wghiloutis orer\n",
            "Ce cte.ery\n",
            "Q:\n",
            "Thal mhethavir:\n",
            "case phulofiars m t. wt ghyeasl yelerau. is Batis\n",
            "An wakeorg atin wacor?\n",
            "Afi withethe t wy ves ay he my atecouuacen h kthin!.\n",
            "LThanr:\n",
            ":\n",
            "Thasathe w thughoni\n"
          ]
        }
      ]
    }
  ]
}