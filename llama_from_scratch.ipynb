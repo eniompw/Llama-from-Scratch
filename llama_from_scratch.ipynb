{
  "nbformat": 4,
  "nbformat_minor": 0,
  "metadata": {
    "colab": {
      "provenance": [],
      "include_colab_link": true
    },
    "kernelspec": {
      "name": "python3",
      "display_name": "Python 3"
    },
    "language_info": {
      "name": "python"
    }
  },
  "cells": [
    {
      "cell_type": "markdown",
      "metadata": {
        "id": "view-in-github",
        "colab_type": "text"
      },
      "source": [
        "<a href=\"https://colab.research.google.com/github/eniompw/Llama-from-Scratch/blob/main/llama_from_scratch.ipynb\" target=\"_parent\"><img src=\"https://colab.research.google.com/assets/colab-badge.svg\" alt=\"Open In Colab\"/></a>"
      ]
    },
    {
      "cell_type": "code",
      "source": [
        "from torch import nn\n",
        "import torch\n",
        "import numpy as np\n",
        "import time\n",
        "from torch.nn import functional as F\n",
        "import pandas as pd"
      ],
      "metadata": {
        "id": "93eXYoGyDTr4"
      },
      "execution_count": null,
      "outputs": []
    },
    {
      "cell_type": "code",
      "source": [
        "!wget https://raw.githubusercontent.com/bkitano/llama-from-scratch/main/input.txt\n",
        "lines = open('./input.txt', 'r').read()\n",
        "\n",
        "vocab = sorted(list(set(lines)))\n",
        "itos = {i:ch for i, ch in enumerate(vocab)}\n",
        "stoi = {ch:i for i, ch in enumerate(vocab)}\n",
        "\n",
        "print(lines[:30])"
      ],
      "metadata": {
        "colab": {
          "base_uri": "https://localhost:8080/"
        },
        "id": "FXbS_eGzRYaw",
        "outputId": "749223c8-0c45-4c0c-f8c1-a63b95e60299"
      },
      "execution_count": null,
      "outputs": [
        {
          "output_type": "stream",
          "name": "stdout",
          "text": [
            "--2023-08-25 18:39:45--  https://raw.githubusercontent.com/bkitano/llama-from-scratch/main/input.txt\n",
            "Resolving raw.githubusercontent.com (raw.githubusercontent.com)... 185.199.108.133, 185.199.109.133, 185.199.110.133, ...\n",
            "Connecting to raw.githubusercontent.com (raw.githubusercontent.com)|185.199.108.133|:443... connected.\n",
            "HTTP request sent, awaiting response... 200 OK\n",
            "Length: 1115394 (1.1M) [text/plain]\n",
            "Saving to: ‘input.txt’\n",
            "\n",
            "input.txt           100%[===================>]   1.06M  --.-KB/s    in 0.06s   \n",
            "\n",
            "2023-08-25 18:39:45 (17.0 MB/s) - ‘input.txt’ saved [1115394/1115394]\n",
            "\n",
            "First Citizen:\n",
            "Before we proce\n"
          ]
        }
      ]
    },
    {
      "cell_type": "code",
      "source": [
        "# simple tokenization by characters\n",
        "def encode(s):\n",
        "    return [stoi[ch] for ch in s]\n",
        "\n",
        "def decode(l):\n",
        "    return ''.join([itos[i] for i in l])\n",
        "\n",
        "print('vocab size:', len(vocab))\n",
        "decode(encode(\"hello\"))\n",
        "\n",
        "dataset = torch.tensor(encode(lines), dtype=torch.int8)\n",
        "dataset.shape"
      ],
      "metadata": {
        "colab": {
          "base_uri": "https://localhost:8080/"
        },
        "id": "J0BE0F_k-QNQ",
        "outputId": "db0e0680-193c-48a1-a458-65ab61023d67"
      },
      "execution_count": null,
      "outputs": [
        {
          "output_type": "stream",
          "name": "stdout",
          "text": [
            "vocab size: 65\n"
          ]
        },
        {
          "output_type": "execute_result",
          "data": {
            "text/plain": [
              "torch.Size([1115394])"
            ]
          },
          "metadata": {},
          "execution_count": 27
        }
      ]
    },
    {
      "cell_type": "code",
      "source": [
        "MASTER_CONFIG = {\n",
        "    \"vocab_size\": len(vocab),\n",
        "    'd_model': 128,\n",
        "    'n_layers': 4,\n",
        "    'context_window': 16,\n",
        "    'n_heads': 8,\n",
        "    'epochs': 1000,\n",
        "    'batch_size': 1,\n",
        "    'log_interval': 10\n",
        "}\n",
        "\n",
        "config = MASTER_CONFIG"
      ],
      "metadata": {
        "id": "KgFGas_mJckW"
      },
      "execution_count": null,
      "outputs": []
    },
    {
      "cell_type": "code",
      "source": [
        "class RMSNorm(nn.Module):\n",
        "    def __init__(self, layer_shape, eps=1e-8, bias=False):\n",
        "        super(RMSNorm, self).__init__()\n",
        "        self.register_parameter(\"scale\", nn.Parameter(torch.ones(layer_shape)))\n",
        "\n",
        "    def forward(self, x):\n",
        "        \"\"\"\n",
        "        assumes shape is (batch, seq_len, d_model)\n",
        "        \"\"\"\n",
        "        # frob norm is not the same as RMS. RMS = 1/sqrt(N) * frob norm\n",
        "        ff_rms = torch.linalg.norm(x, dim=(1,2)) * x[0].numel() ** -.5\n",
        "        raw = x / ff_rms.unsqueeze(-1).unsqueeze(-1)\n",
        "        return self.scale[:x.shape[1], :].unsqueeze(0) * raw"
      ],
      "metadata": {
        "id": "BVVnnfJ4EDHt"
      },
      "execution_count": null,
      "outputs": []
    },
    {
      "cell_type": "code",
      "source": [
        "class RoPEAttention_wMask(nn.Module):\n",
        "    def __init__(self, config):\n",
        "        super().__init__()\n",
        "        self.config = config\n",
        "        self.w_q = nn.Linear(config['d_model'], config['d_model'], bias=False)\n",
        "        self.w_k = nn.Linear(config['d_model'], config['d_model'], bias=False)\n",
        "        self.w_v = nn.Linear(config['d_model'], config['d_model'], bias=False)\n",
        "\n",
        "        self.multihead = nn.MultiheadAttention(config['d_model'], config['n_heads'], dropout=0.1, batch_first=True)\n",
        "        self.R = get_rotary_matrix(config['context_window'], config['d_model'])\n",
        "\n",
        "    def forward(self, x, return_attn_weights=False):\n",
        "        b,m,d = x.shape\n",
        "\n",
        "        q = self.w_q(x)\n",
        "        k = self.w_k(x)\n",
        "        v = self.w_v(x)\n",
        "\n",
        "        q_out = (torch.bmm(q.transpose(0,1), self.R[:m, ...])).transpose(0,1)\n",
        "        k_out = (torch.bmm(k.transpose(0,1), self.R[:m, ...])).transpose(0,1)\n",
        "        v_out = (torch.bmm(v.transpose(0,1), self.R[:m, ...])).transpose(0,1)\n",
        "\n",
        "        activations, attn_weights = self.multihead(\n",
        "            q_out,k_out,v_out,\n",
        "            attn_mask=nn.Transformer.generate_square_subsequent_mask(m),\n",
        "            is_causal=True\n",
        "        )\n",
        "\n",
        "        if return_attn_weights:\n",
        "            return activations, attn_weights\n",
        "        return activations\n",
        "\n",
        "def get_rotary_matrix(context_window, embedding_dim):\n",
        "    R = torch.zeros((context_window, embedding_dim, embedding_dim), requires_grad=False)\n",
        "    for position in range(context_window):\n",
        "        for i in range(embedding_dim//2):\n",
        "            theta = 10000. ** (-2.*(i - 1) / embedding_dim)\n",
        "            m_theta = position * theta\n",
        "            R[position, 2*i,2*i] = np.cos(m_theta)\n",
        "            R[position, 2*i,2*i+1] = - np.sin(m_theta)\n",
        "            R[position, 2*i+1,2*i] = np.sin(m_theta)\n",
        "            R[position, 2*i+1,2*i+1] = np.cos(m_theta)\n",
        "    return R"
      ],
      "metadata": {
        "id": "qZ-S3twlEqVB"
      },
      "execution_count": null,
      "outputs": []
    },
    {
      "cell_type": "code",
      "source": [
        "class SwiGLU(nn.Module):\n",
        "    \"\"\"\n",
        "    Swish-Gated Linear Unit\n",
        "    https://arxiv.org/pdf/2002.05202v1.pdf\n",
        "    \"\"\"\n",
        "    def __init__(self, size):\n",
        "        super().__init__()\n",
        "        self.config = config\n",
        "        self.linear_gate = nn.Linear(size, size)\n",
        "        self.linear = nn.Linear(size, size)\n",
        "        self.beta = torch.randn(1, requires_grad=True)\n",
        "\n",
        "        self.beta = nn.Parameter(torch.ones(1))\n",
        "        self.register_parameter(\"beta\", self.beta)\n",
        "\n",
        "    def forward(self, x):\n",
        "        swish_gate = self.linear_gate(x) * torch.sigmoid(self.beta * self.linear_gate(x))\n",
        "        out = swish_gate * self.linear(x)\n",
        "        return out"
      ],
      "metadata": {
        "id": "HRdgH0vBJmzG"
      },
      "execution_count": null,
      "outputs": []
    },
    {
      "cell_type": "code",
      "source": [
        "# add RMSNorm and residual conncection\n",
        "class LlamaBlock(nn.Module):\n",
        "    def __init__(self, config):\n",
        "        super().__init__()\n",
        "        self.config = config\n",
        "\n",
        "        self.rms = RMSNorm((config['context_window'], config['d_model']))\n",
        "\n",
        "        self.attention = RoPEAttention_wMask(config)\n",
        "        self.feedforward = nn.Sequential(\n",
        "            nn.Linear(config['d_model'], config['d_model']),\n",
        "            SwiGLU(config['d_model']),\n",
        "        )\n",
        "\n",
        "    def forward(self, x):\n",
        "        x = self.rms(x) # rms pre-normalization\n",
        "        x = x + self.attention(x)\n",
        "\n",
        "        x = self.rms(x) # rms pre-normalization\n",
        "        x = x + self.feedforward(x)\n",
        "        return x"
      ],
      "metadata": {
        "id": "RYRn7I6ND61m"
      },
      "execution_count": null,
      "outputs": []
    },
    {
      "cell_type": "code",
      "source": [
        "from collections import OrderedDict\n",
        "\n",
        "class Llama(nn.Module):\n",
        "    def __init__(self, config):\n",
        "        super().__init__()\n",
        "        self.config = config\n",
        "        self.embeddings = nn.Embedding(config['vocab_size'], config['d_model'])\n",
        "        self.llama_blocks = nn.Sequential(\n",
        "            OrderedDict([(f\"llama_{i}\", LlamaBlock(config)) for i in range(config['n_layers'])])\n",
        "        )\n",
        "\n",
        "        self.ffn = nn.Sequential(\n",
        "            nn.Linear(config['d_model'], config['d_model']),\n",
        "            SwiGLU(config['d_model']),\n",
        "            nn.Linear(config['d_model'], config['vocab_size']),\n",
        "        )\n",
        "\n",
        "        print(\"model params:\", sum([m.numel() for m in self.parameters()]))\n",
        "\n",
        "    def forward(self, idx, targets=None):\n",
        "        x = self.embeddings(idx)\n",
        "        x = self.llama_blocks(x)\n",
        "        logits = self.ffn(x)\n",
        "\n",
        "        if targets is None:\n",
        "            return logits\n",
        "\n",
        "        else:\n",
        "            loss = F.cross_entropy(logits.view(-1, self.config['vocab_size']), targets.view(-1))\n",
        "            return logits, loss"
      ],
      "metadata": {
        "id": "vJCDwFbqDL7U"
      },
      "execution_count": null,
      "outputs": []
    },
    {
      "cell_type": "code",
      "source": [
        "def get_batches(data, split, batch_size, context_window, config=MASTER_CONFIG):\n",
        "    train = data[:int(.8 * len(data))]\n",
        "    val = data[int(.8 * len(data)): int(.9 * len(data))]\n",
        "    test = data[int(.9 * len(data)):]\n",
        "\n",
        "    batch_data = train\n",
        "    if split == 'val':\n",
        "        batch_data = val\n",
        "\n",
        "    if split == 'test':\n",
        "        batch_data = test\n",
        "\n",
        "    # pick random starting points\n",
        "    ix = torch.randint(0, batch_data.size(0) - context_window - 1, (batch_size,))\n",
        "    x = torch.stack([batch_data[i:i+context_window] for i in ix]).long()\n",
        "    y = torch.stack([batch_data[i+1:i+context_window+1] for i in ix]).long()\n",
        "    return x, y"
      ],
      "metadata": {
        "id": "6YfICdWY99XO"
      },
      "execution_count": null,
      "outputs": []
    },
    {
      "cell_type": "code",
      "source": [
        "@torch.no_grad()  # don't compute gradients for this function\n",
        "def evaluate_loss(model, config=MASTER_CONFIG):\n",
        "    out = {}\n",
        "    model.eval()\n",
        "    for split in [\"train\", \"val\"]:\n",
        "        losses = []\n",
        "        for _ in range(10):\n",
        "            xb, yb = get_batches(dataset, split, config['batch_size'], config['context_window'])\n",
        "            _, loss = model(xb, yb)\n",
        "            losses.append(loss.item())\n",
        "        out[split] = np.mean(losses)\n",
        "    model.train()\n",
        "    return out"
      ],
      "metadata": {
        "id": "S3z3fm9YCQSW"
      },
      "execution_count": null,
      "outputs": []
    },
    {
      "cell_type": "code",
      "source": [
        "def train(model, optimizer, scheduler=None, config=MASTER_CONFIG, print_logs=False):\n",
        "    losses = []\n",
        "    start_time = time.time()\n",
        "    for epoch in range(config['epochs']):\n",
        "        optimizer.zero_grad()\n",
        "\n",
        "        xs, ys = get_batches(dataset, 'train', config['batch_size'], config['context_window'])\n",
        "        logits, loss = model(xs, targets=ys)\n",
        "        loss.backward()\n",
        "        optimizer.step()\n",
        "\n",
        "        if scheduler:\n",
        "            scheduler.step()\n",
        "\n",
        "        if epoch % config['log_interval'] == 0:\n",
        "            batch_time = time.time() - start_time\n",
        "            x = evaluate_loss(model)\n",
        "            losses += [x]\n",
        "            if print_logs:\n",
        "                print(f\"Epoch {epoch} | val loss {x['val']:.3f} | Time {batch_time:.3f} | ETA in seconds {batch_time * (config['epochs'] - epoch)/config['log_interval'] :.3f}\")\n",
        "            start_time = time.time()\n",
        "\n",
        "            if scheduler:\n",
        "                print(\"lr: \", scheduler.get_lr())\n",
        "\n",
        "    print(\"validation loss: \", losses[-1]['val'])\n",
        "    return pd.DataFrame(losses).plot()"
      ],
      "metadata": {
        "id": "t-V00w4gCfZC"
      },
      "execution_count": null,
      "outputs": []
    },
    {
      "cell_type": "code",
      "source": [
        "llama = Llama(MASTER_CONFIG)\n",
        "optimizer = torch.optim.Adam(llama.parameters())\n",
        "train(llama, optimizer, config=MASTER_CONFIG, print_logs=True)"
      ],
      "metadata": {
        "colab": {
          "base_uri": "https://localhost:8080/",
          "height": 1000
        },
        "id": "tzuc1AS4Bou_",
        "outputId": "7d3b6ccc-7826-442e-c24e-00fa9544ad14"
      },
      "execution_count": null,
      "outputs": [
        {
          "output_type": "stream",
          "name": "stdout",
          "text": [
            "model params: 733382\n",
            "Epoch 0 | val loss 4.159 | Time 0.029 | ETA in seconds 2.926\n",
            "Epoch 10 | val loss 3.957 | Time 0.285 | ETA in seconds 28.181\n",
            "Epoch 20 | val loss 3.625 | Time 0.277 | ETA in seconds 27.158\n",
            "Epoch 30 | val loss 3.204 | Time 0.295 | ETA in seconds 28.640\n",
            "Epoch 40 | val loss 3.304 | Time 0.269 | ETA in seconds 25.835\n",
            "Epoch 50 | val loss 3.320 | Time 0.287 | ETA in seconds 27.300\n",
            "Epoch 60 | val loss 3.313 | Time 0.371 | ETA in seconds 34.867\n",
            "Epoch 70 | val loss 3.210 | Time 0.365 | ETA in seconds 33.965\n",
            "Epoch 80 | val loss 2.882 | Time 0.371 | ETA in seconds 34.098\n",
            "Epoch 90 | val loss 3.095 | Time 0.362 | ETA in seconds 32.977\n",
            "Epoch 100 | val loss 2.879 | Time 0.429 | ETA in seconds 38.621\n",
            "Epoch 110 | val loss 3.123 | Time 0.282 | ETA in seconds 25.093\n",
            "Epoch 120 | val loss 3.078 | Time 0.289 | ETA in seconds 25.423\n",
            "Epoch 130 | val loss 2.916 | Time 0.277 | ETA in seconds 24.135\n",
            "Epoch 140 | val loss 3.081 | Time 0.293 | ETA in seconds 25.187\n",
            "Epoch 150 | val loss 2.832 | Time 0.310 | ETA in seconds 26.315\n",
            "Epoch 160 | val loss 3.021 | Time 0.299 | ETA in seconds 25.142\n",
            "Epoch 170 | val loss 2.771 | Time 0.323 | ETA in seconds 26.843\n",
            "Epoch 180 | val loss 2.845 | Time 0.296 | ETA in seconds 24.273\n",
            "Epoch 190 | val loss 2.685 | Time 0.252 | ETA in seconds 20.393\n",
            "Epoch 200 | val loss 2.895 | Time 0.256 | ETA in seconds 20.519\n",
            "Epoch 210 | val loss 2.869 | Time 0.293 | ETA in seconds 23.158\n",
            "Epoch 220 | val loss 2.827 | Time 0.304 | ETA in seconds 23.703\n",
            "Epoch 230 | val loss 3.026 | Time 0.303 | ETA in seconds 23.326\n",
            "Epoch 240 | val loss 2.677 | Time 0.262 | ETA in seconds 19.920\n",
            "Epoch 250 | val loss 2.711 | Time 0.249 | ETA in seconds 18.695\n",
            "Epoch 260 | val loss 2.978 | Time 0.335 | ETA in seconds 24.777\n",
            "Epoch 270 | val loss 2.756 | Time 0.327 | ETA in seconds 23.887\n",
            "Epoch 280 | val loss 2.805 | Time 0.309 | ETA in seconds 22.268\n",
            "Epoch 290 | val loss 3.171 | Time 0.299 | ETA in seconds 21.263\n",
            "Epoch 300 | val loss 2.766 | Time 0.298 | ETA in seconds 20.894\n",
            "Epoch 310 | val loss 2.779 | Time 0.296 | ETA in seconds 20.402\n",
            "Epoch 320 | val loss 2.800 | Time 0.307 | ETA in seconds 20.905\n",
            "Epoch 330 | val loss 2.689 | Time 0.255 | ETA in seconds 17.061\n",
            "Epoch 340 | val loss 2.920 | Time 0.372 | ETA in seconds 24.564\n",
            "Epoch 350 | val loss 2.712 | Time 0.360 | ETA in seconds 23.421\n",
            "Epoch 360 | val loss 2.630 | Time 0.406 | ETA in seconds 26.001\n",
            "Epoch 370 | val loss 2.970 | Time 0.361 | ETA in seconds 22.723\n",
            "Epoch 380 | val loss 2.802 | Time 0.376 | ETA in seconds 23.319\n",
            "Epoch 390 | val loss 2.640 | Time 0.281 | ETA in seconds 17.128\n",
            "Epoch 400 | val loss 2.679 | Time 0.253 | ETA in seconds 15.156\n",
            "Epoch 410 | val loss 2.711 | Time 0.246 | ETA in seconds 14.529\n",
            "Epoch 420 | val loss 2.796 | Time 0.243 | ETA in seconds 14.103\n",
            "Epoch 430 | val loss 2.868 | Time 0.261 | ETA in seconds 14.900\n",
            "Epoch 440 | val loss 2.822 | Time 0.259 | ETA in seconds 14.516\n",
            "Epoch 450 | val loss 2.675 | Time 0.292 | ETA in seconds 16.072\n",
            "Epoch 460 | val loss 2.766 | Time 0.304 | ETA in seconds 16.441\n",
            "Epoch 470 | val loss 2.698 | Time 0.305 | ETA in seconds 16.140\n",
            "Epoch 480 | val loss 3.063 | Time 0.298 | ETA in seconds 15.473\n",
            "Epoch 490 | val loss 3.014 | Time 0.289 | ETA in seconds 14.746\n",
            "Epoch 500 | val loss 2.743 | Time 0.297 | ETA in seconds 14.835\n",
            "Epoch 510 | val loss 2.592 | Time 0.301 | ETA in seconds 14.735\n",
            "Epoch 520 | val loss 2.722 | Time 0.416 | ETA in seconds 19.992\n",
            "Epoch 530 | val loss 2.733 | Time 0.393 | ETA in seconds 18.470\n",
            "Epoch 540 | val loss 2.636 | Time 0.398 | ETA in seconds 18.322\n",
            "Epoch 550 | val loss 2.948 | Time 0.417 | ETA in seconds 18.771\n",
            "Epoch 560 | val loss 2.748 | Time 0.424 | ETA in seconds 18.635\n",
            "Epoch 570 | val loss 2.292 | Time 0.303 | ETA in seconds 13.027\n",
            "Epoch 580 | val loss 2.702 | Time 0.282 | ETA in seconds 11.838\n",
            "Epoch 590 | val loss 2.763 | Time 0.284 | ETA in seconds 11.648\n",
            "Epoch 600 | val loss 2.574 | Time 0.291 | ETA in seconds 11.658\n",
            "Epoch 610 | val loss 2.628 | Time 0.295 | ETA in seconds 11.519\n",
            "Epoch 620 | val loss 2.982 | Time 0.398 | ETA in seconds 15.119\n",
            "Epoch 630 | val loss 2.446 | Time 0.392 | ETA in seconds 14.490\n",
            "Epoch 640 | val loss 2.502 | Time 0.386 | ETA in seconds 13.909\n",
            "Epoch 650 | val loss 2.815 | Time 0.415 | ETA in seconds 14.534\n",
            "Epoch 660 | val loss 2.741 | Time 0.379 | ETA in seconds 12.890\n",
            "Epoch 670 | val loss 2.561 | Time 0.292 | ETA in seconds 9.624\n",
            "Epoch 680 | val loss 2.533 | Time 0.287 | ETA in seconds 9.179\n",
            "Epoch 690 | val loss 2.548 | Time 0.297 | ETA in seconds 9.211\n",
            "Epoch 700 | val loss 2.422 | Time 0.310 | ETA in seconds 9.301\n",
            "Epoch 710 | val loss 2.698 | Time 0.253 | ETA in seconds 7.335\n",
            "Epoch 720 | val loss 2.670 | Time 0.275 | ETA in seconds 7.701\n",
            "Epoch 730 | val loss 2.539 | Time 0.296 | ETA in seconds 7.986\n",
            "Epoch 740 | val loss 2.811 | Time 0.295 | ETA in seconds 7.680\n",
            "Epoch 750 | val loss 2.581 | Time 0.280 | ETA in seconds 6.999\n",
            "Epoch 760 | val loss 2.713 | Time 0.285 | ETA in seconds 6.837\n",
            "Epoch 770 | val loss 2.897 | Time 0.276 | ETA in seconds 6.338\n",
            "Epoch 780 | val loss 2.827 | Time 0.302 | ETA in seconds 6.649\n",
            "Epoch 790 | val loss 2.759 | Time 0.265 | ETA in seconds 5.564\n",
            "Epoch 800 | val loss 2.660 | Time 0.253 | ETA in seconds 5.060\n",
            "Epoch 810 | val loss 2.592 | Time 0.260 | ETA in seconds 4.940\n",
            "Epoch 820 | val loss 2.742 | Time 0.286 | ETA in seconds 5.150\n",
            "Epoch 830 | val loss 2.635 | Time 0.296 | ETA in seconds 5.039\n",
            "Epoch 840 | val loss 2.521 | Time 0.294 | ETA in seconds 4.711\n",
            "Epoch 850 | val loss 2.759 | Time 0.243 | ETA in seconds 3.646\n",
            "Epoch 860 | val loss 2.619 | Time 0.248 | ETA in seconds 3.477\n",
            "Epoch 870 | val loss 2.682 | Time 0.269 | ETA in seconds 3.502\n",
            "Epoch 880 | val loss 2.547 | Time 0.250 | ETA in seconds 3.006\n",
            "Epoch 890 | val loss 2.805 | Time 0.249 | ETA in seconds 2.736\n",
            "Epoch 900 | val loss 2.749 | Time 0.275 | ETA in seconds 2.750\n",
            "Epoch 910 | val loss 2.749 | Time 0.336 | ETA in seconds 3.023\n",
            "Epoch 920 | val loss 2.509 | Time 0.448 | ETA in seconds 3.582\n",
            "Epoch 930 | val loss 2.702 | Time 0.393 | ETA in seconds 2.753\n",
            "Epoch 940 | val loss 2.779 | Time 0.413 | ETA in seconds 2.478\n",
            "Epoch 950 | val loss 2.554 | Time 0.419 | ETA in seconds 2.097\n",
            "Epoch 960 | val loss 2.848 | Time 0.276 | ETA in seconds 1.105\n",
            "Epoch 970 | val loss 2.640 | Time 0.287 | ETA in seconds 0.860\n",
            "Epoch 980 | val loss 2.825 | Time 0.297 | ETA in seconds 0.594\n",
            "Epoch 990 | val loss 2.478 | Time 0.288 | ETA in seconds 0.288\n",
            "validation loss:  2.478454291820526\n"
          ]
        },
        {
          "output_type": "execute_result",
          "data": {
            "text/plain": [
              "<Axes: >"
            ]
          },
          "metadata": {},
          "execution_count": 39
        },
        {
          "output_type": "display_data",
          "data": {
            "text/plain": [
              "<Figure size 640x480 with 1 Axes>"
            ],
            "image/png": "[encoded data removed]"
          },
          "metadata": {}
        }
      ]
    }
  ]
}